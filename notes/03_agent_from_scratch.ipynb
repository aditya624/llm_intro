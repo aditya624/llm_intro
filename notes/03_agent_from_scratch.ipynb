{
 "cells": [
  {
   "cell_type": "code",
   "execution_count": null,
   "id": "1d7e2d0c",
   "metadata": {},
   "outputs": [],
   "source": [
    "!pip install langchain-groq langchain-community chromadb"
   ]
  },
  {
   "cell_type": "code",
   "execution_count": 32,
   "id": "63a2265d",
   "metadata": {},
   "outputs": [
    {
     "name": "stdout",
     "output_type": "stream",
     "text": [
      "Requirement already satisfied: langchain-google-genai in /Users/adityapratamanusantara/miniconda3/envs/llm-intro/lib/python3.12/site-packages (2.0.11)\n",
      "Requirement already satisfied: filetype<2.0.0,>=1.2.0 in /Users/adityapratamanusantara/miniconda3/envs/llm-intro/lib/python3.12/site-packages (from langchain-google-genai) (1.2.0)\n",
      "Requirement already satisfied: google-ai-generativelanguage<0.7.0,>=0.6.16 in /Users/adityapratamanusantara/miniconda3/envs/llm-intro/lib/python3.12/site-packages (from langchain-google-genai) (0.6.16)\n",
      "Requirement already satisfied: langchain-core<0.4.0,>=0.3.37 in /Users/adityapratamanusantara/miniconda3/envs/llm-intro/lib/python3.12/site-packages (from langchain-google-genai) (0.3.43)\n",
      "Requirement already satisfied: pydantic<3,>=2 in /Users/adityapratamanusantara/miniconda3/envs/llm-intro/lib/python3.12/site-packages (from langchain-google-genai) (2.9.0)\n",
      "Requirement already satisfied: google-api-core!=2.0.*,!=2.1.*,!=2.10.*,!=2.2.*,!=2.3.*,!=2.4.*,!=2.5.*,!=2.6.*,!=2.7.*,!=2.8.*,!=2.9.*,<3.0.0dev,>=1.34.1 in /Users/adityapratamanusantara/miniconda3/envs/llm-intro/lib/python3.12/site-packages (from google-api-core[grpc]!=2.0.*,!=2.1.*,!=2.10.*,!=2.2.*,!=2.3.*,!=2.4.*,!=2.5.*,!=2.6.*,!=2.7.*,!=2.8.*,!=2.9.*,<3.0.0dev,>=1.34.1->google-ai-generativelanguage<0.7.0,>=0.6.16->langchain-google-genai) (2.24.1)\n",
      "Requirement already satisfied: google-auth!=2.24.0,!=2.25.0,<3.0.0dev,>=2.14.1 in /Users/adityapratamanusantara/miniconda3/envs/llm-intro/lib/python3.12/site-packages (from google-ai-generativelanguage<0.7.0,>=0.6.16->langchain-google-genai) (2.38.0)\n",
      "Requirement already satisfied: proto-plus<2.0.0dev,>=1.22.3 in /Users/adityapratamanusantara/miniconda3/envs/llm-intro/lib/python3.12/site-packages (from google-ai-generativelanguage<0.7.0,>=0.6.16->langchain-google-genai) (1.26.0)\n",
      "Requirement already satisfied: protobuf!=4.21.0,!=4.21.1,!=4.21.2,!=4.21.3,!=4.21.4,!=4.21.5,<6.0.0dev,>=3.20.2 in /Users/adityapratamanusantara/miniconda3/envs/llm-intro/lib/python3.12/site-packages (from google-ai-generativelanguage<0.7.0,>=0.6.16->langchain-google-genai) (5.29.3)\n",
      "Requirement already satisfied: langsmith<0.4,>=0.1.125 in /Users/adityapratamanusantara/miniconda3/envs/llm-intro/lib/python3.12/site-packages (from langchain-core<0.4.0,>=0.3.37->langchain-google-genai) (0.2.11)\n",
      "Requirement already satisfied: tenacity!=8.4.0,<10.0.0,>=8.1.0 in /Users/adityapratamanusantara/miniconda3/envs/llm-intro/lib/python3.12/site-packages (from langchain-core<0.4.0,>=0.3.37->langchain-google-genai) (9.0.0)\n",
      "Requirement already satisfied: jsonpatch<2.0,>=1.33 in /Users/adityapratamanusantara/miniconda3/envs/llm-intro/lib/python3.12/site-packages (from langchain-core<0.4.0,>=0.3.37->langchain-google-genai) (1.33)\n",
      "Requirement already satisfied: PyYAML>=5.3 in /Users/adityapratamanusantara/miniconda3/envs/llm-intro/lib/python3.12/site-packages (from langchain-core<0.4.0,>=0.3.37->langchain-google-genai) (6.0.2)\n",
      "Requirement already satisfied: packaging<25,>=23.2 in /Users/adityapratamanusantara/miniconda3/envs/llm-intro/lib/python3.12/site-packages (from langchain-core<0.4.0,>=0.3.37->langchain-google-genai) (24.2)\n",
      "Requirement already satisfied: typing-extensions>=4.7 in /Users/adityapratamanusantara/miniconda3/envs/llm-intro/lib/python3.12/site-packages (from langchain-core<0.4.0,>=0.3.37->langchain-google-genai) (4.12.2)\n",
      "Requirement already satisfied: annotated-types>=0.4.0 in /Users/adityapratamanusantara/miniconda3/envs/llm-intro/lib/python3.12/site-packages (from pydantic<3,>=2->langchain-google-genai) (0.7.0)\n",
      "Requirement already satisfied: pydantic-core==2.23.2 in /Users/adityapratamanusantara/miniconda3/envs/llm-intro/lib/python3.12/site-packages (from pydantic<3,>=2->langchain-google-genai) (2.23.2)\n",
      "Requirement already satisfied: tzdata in /Users/adityapratamanusantara/miniconda3/envs/llm-intro/lib/python3.12/site-packages (from pydantic<3,>=2->langchain-google-genai) (2025.1)\n",
      "Requirement already satisfied: googleapis-common-protos<2.0.dev0,>=1.56.2 in /Users/adityapratamanusantara/miniconda3/envs/llm-intro/lib/python3.12/site-packages (from google-api-core!=2.0.*,!=2.1.*,!=2.10.*,!=2.2.*,!=2.3.*,!=2.4.*,!=2.5.*,!=2.6.*,!=2.7.*,!=2.8.*,!=2.9.*,<3.0.0dev,>=1.34.1->google-api-core[grpc]!=2.0.*,!=2.1.*,!=2.10.*,!=2.2.*,!=2.3.*,!=2.4.*,!=2.5.*,!=2.6.*,!=2.7.*,!=2.8.*,!=2.9.*,<3.0.0dev,>=1.34.1->google-ai-generativelanguage<0.7.0,>=0.6.16->langchain-google-genai) (1.68.0)\n",
      "Requirement already satisfied: requests<3.0.0.dev0,>=2.18.0 in /Users/adityapratamanusantara/miniconda3/envs/llm-intro/lib/python3.12/site-packages (from google-api-core!=2.0.*,!=2.1.*,!=2.10.*,!=2.2.*,!=2.3.*,!=2.4.*,!=2.5.*,!=2.6.*,!=2.7.*,!=2.8.*,!=2.9.*,<3.0.0dev,>=1.34.1->google-api-core[grpc]!=2.0.*,!=2.1.*,!=2.10.*,!=2.2.*,!=2.3.*,!=2.4.*,!=2.5.*,!=2.6.*,!=2.7.*,!=2.8.*,!=2.9.*,<3.0.0dev,>=1.34.1->google-ai-generativelanguage<0.7.0,>=0.6.16->langchain-google-genai) (2.32.3)\n",
      "Requirement already satisfied: grpcio<2.0dev,>=1.33.2 in /Users/adityapratamanusantara/miniconda3/envs/llm-intro/lib/python3.12/site-packages (from google-api-core[grpc]!=2.0.*,!=2.1.*,!=2.10.*,!=2.2.*,!=2.3.*,!=2.4.*,!=2.5.*,!=2.6.*,!=2.7.*,!=2.8.*,!=2.9.*,<3.0.0dev,>=1.34.1->google-ai-generativelanguage<0.7.0,>=0.6.16->langchain-google-genai) (1.71.0rc2)\n",
      "Requirement already satisfied: grpcio-status<2.0.dev0,>=1.33.2 in /Users/adityapratamanusantara/miniconda3/envs/llm-intro/lib/python3.12/site-packages (from google-api-core[grpc]!=2.0.*,!=2.1.*,!=2.10.*,!=2.2.*,!=2.3.*,!=2.4.*,!=2.5.*,!=2.6.*,!=2.7.*,!=2.8.*,!=2.9.*,<3.0.0dev,>=1.34.1->google-ai-generativelanguage<0.7.0,>=0.6.16->langchain-google-genai) (1.71.0rc2)\n",
      "Requirement already satisfied: cachetools<6.0,>=2.0.0 in /Users/adityapratamanusantara/miniconda3/envs/llm-intro/lib/python3.12/site-packages (from google-auth!=2.24.0,!=2.25.0,<3.0.0dev,>=2.14.1->google-ai-generativelanguage<0.7.0,>=0.6.16->langchain-google-genai) (5.5.2)\n",
      "Requirement already satisfied: pyasn1-modules>=0.2.1 in /Users/adityapratamanusantara/miniconda3/envs/llm-intro/lib/python3.12/site-packages (from google-auth!=2.24.0,!=2.25.0,<3.0.0dev,>=2.14.1->google-ai-generativelanguage<0.7.0,>=0.6.16->langchain-google-genai) (0.4.1)\n",
      "Requirement already satisfied: rsa<5,>=3.1.4 in /Users/adityapratamanusantara/miniconda3/envs/llm-intro/lib/python3.12/site-packages (from google-auth!=2.24.0,!=2.25.0,<3.0.0dev,>=2.14.1->google-ai-generativelanguage<0.7.0,>=0.6.16->langchain-google-genai) (4.9)\n",
      "Requirement already satisfied: jsonpointer>=1.9 in /Users/adityapratamanusantara/miniconda3/envs/llm-intro/lib/python3.12/site-packages (from jsonpatch<2.0,>=1.33->langchain-core<0.4.0,>=0.3.37->langchain-google-genai) (3.0.0)\n",
      "Requirement already satisfied: httpx<1,>=0.23.0 in /Users/adityapratamanusantara/miniconda3/envs/llm-intro/lib/python3.12/site-packages (from langsmith<0.4,>=0.1.125->langchain-core<0.4.0,>=0.3.37->langchain-google-genai) (0.28.1)\n",
      "Requirement already satisfied: orjson<4.0.0,>=3.9.14 in /Users/adityapratamanusantara/miniconda3/envs/llm-intro/lib/python3.12/site-packages (from langsmith<0.4,>=0.1.125->langchain-core<0.4.0,>=0.3.37->langchain-google-genai) (3.10.15)\n",
      "Requirement already satisfied: requests-toolbelt<2.0.0,>=1.0.0 in /Users/adityapratamanusantara/miniconda3/envs/llm-intro/lib/python3.12/site-packages (from langsmith<0.4,>=0.1.125->langchain-core<0.4.0,>=0.3.37->langchain-google-genai) (1.0.0)\n",
      "Requirement already satisfied: anyio in /Users/adityapratamanusantara/miniconda3/envs/llm-intro/lib/python3.12/site-packages (from httpx<1,>=0.23.0->langsmith<0.4,>=0.1.125->langchain-core<0.4.0,>=0.3.37->langchain-google-genai) (4.8.0)\n",
      "Requirement already satisfied: certifi in /Users/adityapratamanusantara/miniconda3/envs/llm-intro/lib/python3.12/site-packages (from httpx<1,>=0.23.0->langsmith<0.4,>=0.1.125->langchain-core<0.4.0,>=0.3.37->langchain-google-genai) (2025.1.31)\n",
      "Requirement already satisfied: httpcore==1.* in /Users/adityapratamanusantara/miniconda3/envs/llm-intro/lib/python3.12/site-packages (from httpx<1,>=0.23.0->langsmith<0.4,>=0.1.125->langchain-core<0.4.0,>=0.3.37->langchain-google-genai) (1.0.7)\n",
      "Requirement already satisfied: idna in /Users/adityapratamanusantara/miniconda3/envs/llm-intro/lib/python3.12/site-packages (from httpx<1,>=0.23.0->langsmith<0.4,>=0.1.125->langchain-core<0.4.0,>=0.3.37->langchain-google-genai) (3.10)\n",
      "Requirement already satisfied: h11<0.15,>=0.13 in /Users/adityapratamanusantara/miniconda3/envs/llm-intro/lib/python3.12/site-packages (from httpcore==1.*->httpx<1,>=0.23.0->langsmith<0.4,>=0.1.125->langchain-core<0.4.0,>=0.3.37->langchain-google-genai) (0.14.0)\n",
      "Requirement already satisfied: pyasn1<0.7.0,>=0.4.6 in /Users/adityapratamanusantara/miniconda3/envs/llm-intro/lib/python3.12/site-packages (from pyasn1-modules>=0.2.1->google-auth!=2.24.0,!=2.25.0,<3.0.0dev,>=2.14.1->google-ai-generativelanguage<0.7.0,>=0.6.16->langchain-google-genai) (0.6.1)\n",
      "Requirement already satisfied: charset-normalizer<4,>=2 in /Users/adityapratamanusantara/miniconda3/envs/llm-intro/lib/python3.12/site-packages (from requests<3.0.0.dev0,>=2.18.0->google-api-core!=2.0.*,!=2.1.*,!=2.10.*,!=2.2.*,!=2.3.*,!=2.4.*,!=2.5.*,!=2.6.*,!=2.7.*,!=2.8.*,!=2.9.*,<3.0.0dev,>=1.34.1->google-api-core[grpc]!=2.0.*,!=2.1.*,!=2.10.*,!=2.2.*,!=2.3.*,!=2.4.*,!=2.5.*,!=2.6.*,!=2.7.*,!=2.8.*,!=2.9.*,<3.0.0dev,>=1.34.1->google-ai-generativelanguage<0.7.0,>=0.6.16->langchain-google-genai) (3.4.1)\n",
      "Requirement already satisfied: urllib3<3,>=1.21.1 in /Users/adityapratamanusantara/miniconda3/envs/llm-intro/lib/python3.12/site-packages (from requests<3.0.0.dev0,>=2.18.0->google-api-core!=2.0.*,!=2.1.*,!=2.10.*,!=2.2.*,!=2.3.*,!=2.4.*,!=2.5.*,!=2.6.*,!=2.7.*,!=2.8.*,!=2.9.*,<3.0.0dev,>=1.34.1->google-api-core[grpc]!=2.0.*,!=2.1.*,!=2.10.*,!=2.2.*,!=2.3.*,!=2.4.*,!=2.5.*,!=2.6.*,!=2.7.*,!=2.8.*,!=2.9.*,<3.0.0dev,>=1.34.1->google-ai-generativelanguage<0.7.0,>=0.6.16->langchain-google-genai) (2.3.0)\n",
      "Requirement already satisfied: sniffio>=1.1 in /Users/adityapratamanusantara/miniconda3/envs/llm-intro/lib/python3.12/site-packages (from anyio->httpx<1,>=0.23.0->langsmith<0.4,>=0.1.125->langchain-core<0.4.0,>=0.3.37->langchain-google-genai) (1.3.1)\n"
     ]
    }
   ],
   "source": [
    "!pip install langchain-google-genai -U"
   ]
  },
  {
   "cell_type": "code",
   "execution_count": 1,
   "id": "5441bbb4-4041-4e13-9075-cc2d49c95fe7",
   "metadata": {},
   "outputs": [],
   "source": [
    "import os\n",
    "\n",
    "from dotenv import load_dotenv, find_dotenv\n",
    "from langchain_groq import ChatGroq\n",
    "# from langchain_google_genai import ChatGoogleGenerativeAI\n",
    "\n",
    "from langchain_core.messages import SystemMessage\n",
    "from langgraph.prebuilt import create_react_agent"
   ]
  },
  {
   "cell_type": "code",
   "execution_count": 2,
   "id": "06787021-2c43-43d0-8c3c-ed0612e29494",
   "metadata": {},
   "outputs": [],
   "source": [
    "# make sure GOOGLE_API_KEY (or any other llm provider, must exactly the same)\n",
    "_ = load_dotenv(find_dotenv())\n",
    "# or put it into variable and pass it to llm model \n",
    "# google_api_key = os.getenv('GOOGLE_API_KEY') # pass this to the model creation"
   ]
  },
  {
   "cell_type": "markdown",
   "id": "6bc08502-7b31-489b-b185-da27916771ba",
   "metadata": {},
   "source": [
    "# Agent Concept"
   ]
  },
  {
   "cell_type": "markdown",
   "id": "ba1147b6-816b-4158-bc43-1bae92684707",
   "metadata": {},
   "source": [
    "![](../media/agent_tools.png)"
   ]
  },
  {
   "cell_type": "markdown",
   "id": "d849e840-2639-416d-b645-5182176c59e8",
   "metadata": {},
   "source": [
    "What is an AI Agent? \n",
    "An AI agent is a program that uses a language model to understand a task and decide the best way to complete it using available tools autonomously.\n",
    "A key idea in AI agents is the set of **Tools** (functions) they can use to get the job done. \n",
    "For each request, the AI plans the best approach, deciding what steps and tools are needed and in what order to complete the task.\n",
    "\n",
    "For this example, we will create an Agent that could get the weather from external API, either by specify the location/city or by trying to use current location."
   ]
  },
  {
   "cell_type": "code",
   "execution_count": null,
   "id": "2d7217d5",
   "metadata": {},
   "outputs": [
    {
     "name": "stderr",
     "output_type": "stream",
     "text": [
      "/var/folders/h4/318cb1vj5xl_h8jj3tcyq09w0000gn/T/ipykernel_7874/989791284.py:26: LangChainDeprecationWarning: The class `Chroma` was deprecated in LangChain 0.2.9 and will be removed in 1.0. An updated version of the class exists in the :class:`~langchain-chroma package and should be used instead. To use it run `pip install -U :class:`~langchain-chroma` and import as `from :class:`~langchain_chroma import Chroma``.\n",
      "  VECTORSTORE = Chroma(persist_directory=\"knowledge\", embedding_function=embedding, collection_metadata={\"hnsw:space\": \"cosine\"})\n"
     ]
    }
   ],
   "source": [
    "import json\n",
    "from langchain_core.documents import Document\n",
    "from langchain_community.vectorstores import Chroma\n",
    "from langchain_google_genai.embeddings import GoogleGenerativeAIEmbeddings\n",
    "from langchain.text_splitter import RecursiveCharacterTextSplitter\n",
    "\n",
    "with open(\"../data/rag/data.json\", \"r\") as f:\n",
    "  data = json.load(f)\n",
    "\n",
    "document = []\n",
    "for d in data:\n",
    "  document.append(\n",
    "      Document(\n",
    "          page_content=d[\"content\"],\n",
    "          metadata={\n",
    "              \"title\": d[\"title\"],\n",
    "              \"url\": d[\"url\"]\n",
    "          }\n",
    "      )\n",
    "  )\n",
    "\n",
    "text_splitter = RecursiveCharacterTextSplitter(chunk_size=1000, chunk_overlap=100)\n",
    "document_chunks = text_splitter.split_documents(document)\n",
    "\n",
    "embedding = GoogleGenerativeAIEmbeddings(model='models/text-embedding-004', google_api_key=\"**\")\n",
    "VECTORSTORE = Chroma(persist_directory=\"knowledge\", embedding_function=embedding, collection_metadata={\"hnsw:space\": \"cosine\"})\n",
    "\n",
    "VECTORSTORE.add_documents(documents=document_chunks)\n",
    "\n",
    "retriever = VECTORSTORE.as_retriever(\n",
    "    search_type=\"similarity\",\n",
    "    search_kwargs={\n",
    "        \"k\": 3\n",
    "    }\n",
    ")\n"
   ]
  },
  {
   "cell_type": "code",
   "execution_count": null,
   "id": "d9852c4b-5670-4e5f-8535-ad7c99a13ebe",
   "metadata": {},
   "outputs": [],
   "source": [
    "\"\"\"\n",
    "agent that we use as example:\n",
    "    1. get weather\n",
    "    2. get location (dummy, returning random between Jakarta, Seoul, Tokyo)\n",
    "\"\"\"\n",
    "import requests\n",
    "from langchain_core.tools import tool\n",
    "from typing import Optional\n",
    "import random\n",
    "\n",
    "# class Location(BaseModel):\n",
    "#     location: str = Field(description='Location to find weather')\n",
    "    \n",
    "@tool\n",
    "def get_weather(location: Optional[str]='Jakarta') -> str:\n",
    "    \"\"\"Get the weather via API in a location (provided, Jakarta as default).\n",
    "    A tool designed to gather accurate information on weather around the globe. \n",
    "    Useful for when you need to answer questions about the weather. \n",
    "    Input should be the location.\n",
    "    \"\"\"\n",
    "    WEATHERAPI_API_KEY='8a6c94f591c4401c9e8152836251301'\n",
    "    res = requests.get(f'https://api.weatherapi.com/v1/current.json?key={WEATHERAPI_API_KEY}&q={location}&aqi=no')\n",
    "    return \"For {} temperature: {:.2F} and weather: {}\".format(\n",
    "        location,\n",
    "        res.json()['current']['temp_c'],\n",
    "        res.json()['current']['condition']['text']\n",
    "        )\n",
    "@tool\n",
    "def get_current_location() -> str:\n",
    "    \"\"\"\n",
    "    Get the current location of a user (approxmate).\n",
    "    Input: None\n",
    "    Output: City name \n",
    "    \"\"\"\n",
    "\n",
    "    random_city = ['Jakarta', 'Seoul', 'Tokyo', 'Singapore', 'Kuala Lumpur']\n",
    "    return random.choice(random_city)\n",
    "\n",
    "@tool\n",
    "def search_news(question):\n",
    "    \"\"\"\n",
    "    This tool will search for information on news based on the query.\n",
    "    Input: question from user\n",
    "    Output: string context\n",
    "    \"\"\"\n",
    "    docs = retriever.invoke(question)\n",
    "\n",
    "    context = \"\"\n",
    "    for doc in docs:\n",
    "        page_content = doc.page_content\n",
    "        metadata = doc.metadata\n",
    "\n",
    "        title = metadata['title']\n",
    "        url = metadata['url']\n",
    "\n",
    "        context += f\"Title: {title}\\n\"\n",
    "        context += f\"URL: {url}\\n\"\n",
    "        context += f\"Content: {page_content}\\n\\n\"\n",
    "\n",
    "    return context\n"
   ]
  },
  {
   "cell_type": "code",
   "execution_count": 6,
   "id": "1f85a1b6",
   "metadata": {},
   "outputs": [
    {
     "data": {
      "text/plain": [
       "'Title: Program Makan Siang Gratis di Maros, Makan Pakai Wadah Plastik\\nURL: https://www.kompas.com/sulawesi-selatan/read/2025/01/07/151254688/program-makan-siang-gratis-di-maros-makan-pakai-wadah-plastik\\nContent: Memasuki hari kedua, proses penyaluran makan siang gratis berjalan lancar.\\n\\nBaca juga: Makan Siang Gratis Dipangkas, Pakar Unair: Bisa Pakai Lele hingga Nila\\n\\nFokus makan siang gratis di Kecamatan Mandai\\n\\nKetua Komite Nasional Pemuda Indonesia (KNPI) Maros ini juga menjelaskan untuk pekan ini penyaluran makan siang gratis akan difokuskan di Kecamatan Mandai.\\n\\n“Untuk sementara menyasar 10 sekolah, untuk wilayah pelosok belum ada juknisnya, sehingga kami masih fokus di Kecamatan Mandai,” jelasnya.\\n\\nSementara, Sekretaris Daerah Maros, Andi Davied Syamsuddin mengatakan pihaknya menggelontorkan dana Rp 2,5 milliar dari APBD untuk mendukung program makan siang gratis.\\n\\nDalam perencanaannya, anggaran tersebut diperuntukkan untuk sekolah SD di Maros.“Walau jumlahnya belum tercukupi, kami masih menunggu teknis lebih lanjut penganggarannya, waktu kami menyusun, SMP belum dimasukkan,” terangnya.\\n\\nTitle: Program Makan Bergizi Gratis Resmi Beroperasi, SPPG Palmerah Salurkan 2.987 Makanan\\nURL: https://nasional.kompas.com/read/2025/01/07/19452931/program-makan-bergizi-gratis-resmi-beroperasi-sppg-palmerah-salurkan-2987\\nContent: “Kami juga memiliki tim terdiri dari persiapan 7 orang, ada tim masak 9 orang, pemorsian 9 orang, serta supir 4 orang. Tim cuci alat berjumlah 16 orang dan customer service (CS) 1 orang,\" ujar Yudha.\\n\\nYudha menjamin makanan yang dibuat di dapurnya telah memenuhi standar gizi karena sudah melewati sejumlah pemeriksaan. Pihaknya telah mengecek Angka Kecukupan Gizi (AKG) pada setiap menu sesuai masing-masing umur.\\n\\n“Selain itu, kami juga melakukan pengecekan bahan baku untuk memastikan makanan yang disajikan memenuhi standar gizi dan higienitas,” tuturnya.\\n\\nTitle: Kepala Sekolah SDS Barunawati: Program Makan Bergizi Bantu Penuhi Gizi Siswa\\nURL: https://nasional.kompas.com/read/2025/01/07/20050071/kepala-sekolah-sds-barunawati--program-makan-bergizi-bantu-penuhi-gizi-siswa\\nContent: Sayangnya, siswa di sekolah itu lebih menyukai makanan cepat saji, seperti sosis atau nuget. Sajian ini dinilai belum mampu mencukupi kebutuhan gizi para siswa.\\n\\n“Makanan tersebut kurang bagus untuk menunjang pertumbuhan mereka,” kata Untung di SDS Barunawati, Senin.\\n\\nMelalui Program MBG, kata Untung, siswa menjadi terbiasa dengan makanan bergizi. SPPG Palmerah sendiri telah menyalurkan 558 porsi makanan bergizi gratis di SDS dan SMPS Barunawati II .\\n\\nBaca juga: Program Makan Bergizi Gratis Resmi Beroperasi, SPPG Palmerah Salurkan 2.987 Makanan\\n\\nAdapun menu yang disajikan pada program tersebut, yakni nasi, ayam teriyaki, tahu goreng, tumis kacang panjang, dan jeruk. Menurutnya, menu ini sudah memenuhi kebutuhan gizi siswanya.\\n\\n“Semoga program ini dapat terus berlangsung untuk memenuhi gizi dan kesehatan anak,” katanya.\\n\\nBaca juga: Program Makan Bergizi Gratis Sasar 3 Juta Penerima pada Januari-Maret 2025\\n\\n'"
      ]
     },
     "execution_count": 6,
     "metadata": {},
     "output_type": "execute_result"
    }
   ],
   "source": [
    "search_news.invoke(\"makan siang\")"
   ]
  },
  {
   "cell_type": "markdown",
   "id": "72b769d2-1630-46b1-92bd-8590ac98db41",
   "metadata": {},
   "source": [
    "The function is a tool already (after using decorator). In order to test the tool, call `.run()` method."
   ]
  },
  {
   "cell_type": "code",
   "execution_count": 7,
   "id": "6afef075-2d55-42aa-8ba6-3b65899b4a3a",
   "metadata": {},
   "outputs": [
    {
     "data": {
      "text/plain": [
       "'For Jakarta temperature: 27.40 and weather: Partly cloudy'"
      ]
     },
     "execution_count": 7,
     "metadata": {},
     "output_type": "execute_result"
    }
   ],
   "source": [
    "get_weather.invoke('Jakarta')"
   ]
  },
  {
   "cell_type": "code",
   "execution_count": 8,
   "id": "8a62892a-6ed3-4a14-b065-8a5c86a9ebd1",
   "metadata": {},
   "outputs": [
    {
     "data": {
      "text/plain": [
       "'Singapore'"
      ]
     },
     "execution_count": 8,
     "metadata": {},
     "output_type": "execute_result"
    }
   ],
   "source": [
    "get_current_location.invoke({})"
   ]
  },
  {
   "cell_type": "markdown",
   "id": "803366c8-18a6-4cf5-95de-f5435840ac48",
   "metadata": {},
   "source": [
    "Use langgraph function to create a react agent (stands for Reasoning and Action agent). On a high level, given a query, the model will [be](https://www.leewayhertz.com/react-agents-vs-function-calling-agents/):\n",
    "1. Break down the task into smaller step, choosing the required tools\n",
    "2. Exceute the step based on the tools\n",
    "3. Observe the result (should it use another tools or return the answer)\n",
    "4. Give response\n"
   ]
  },
  {
   "cell_type": "code",
   "execution_count": 9,
   "id": "57d6a2ac-aa3a-4117-b423-96a4df368c80",
   "metadata": {},
   "outputs": [
    {
     "data": {
      "text/plain": [
       "'Lokasi Anda sekarang adalah Tokyo.  '"
      ]
     },
     "execution_count": 9,
     "metadata": {},
     "output_type": "execute_result"
    }
   ],
   "source": [
    "# llm = ChatGoogleGenerativeAI(model=\"gemini-1.5-flash\", api_key=os.getenv('GOOGLE_API_KEY'))\n",
    "llm = ChatGroq(model=\"gemma2-9b-it\", api_key=os.getenv('GROQ_API_KEY'))\n",
    "system_prompt = \"You are a helpful assistant that provides information about the weather and news. Please answer in Bahasa.\"\n",
    "query = \"What's the temperature on my location?\" # the agent is smart enough to call the get_location tools first, before pass it to the get_weather tools\n",
    "# query = \"Halo bali\"\n",
    "# query = \"Mengapa sintayong di pecat ?\"\n",
    "query = \"Where is my location now?\"\n",
    "agent_executor = create_react_agent(model=llm, tools=[get_weather, get_current_location, search_news], state_modifier=system_prompt)\n",
    "message = agent_executor.invoke({\n",
    "    'messages': [\n",
    "        ('human', query)\n",
    "    ]\n",
    "})\n",
    "message['messages'][-1].content"
   ]
  },
  {
   "cell_type": "markdown",
   "id": "b360b99f-eec1-4979-81fd-5958de141d57",
   "metadata": {},
   "source": [
    "## Saving Checkpoint"
   ]
  },
  {
   "cell_type": "markdown",
   "id": "e8065f9c-0ead-4125-959a-4ed2dde68c98",
   "metadata": {},
   "source": [
    "Langgraph provides a way to save a chat session by having thread_id. "
   ]
  },
  {
   "cell_type": "code",
   "execution_count": 10,
   "id": "9d10b169-6680-4504-b66e-d59d7c43ac9c",
   "metadata": {},
   "outputs": [],
   "source": [
    "from langgraph.checkpoint.memory import MemorySaver\n",
    "memory = MemorySaver()\n",
    "\n",
    "agent_executor = create_react_agent(model=llm, tools=[get_weather, get_current_location, search_news], state_modifier=system_prompt, checkpointer=memory)\n",
    "\n",
    "query = \"Where is my location now?\"\n",
    "\n",
    "# create configuration for Thread Id\n",
    "config = {\"configurable\": {\"thread_id\": \"test-thread-11\"}}\n",
    "message = agent_executor.invoke({\n",
    "    'messages': [\n",
    "        ('human', query)\n",
    "    ]},\n",
    "    config\n",
    ")"
   ]
  },
  {
   "cell_type": "code",
   "execution_count": 11,
   "id": "808ee2a0-09b0-43ea-8dc8-230b3f468dc9",
   "metadata": {},
   "outputs": [
    {
     "data": {
      "text/plain": [
       "AIMessage(content='Lokasi Anda saat ini adalah Kuala Lumpur. \\n\\n\\n', additional_kwargs={}, response_metadata={'token_usage': {'completion_tokens': 12, 'prompt_tokens': 1304, 'total_tokens': 1316, 'completion_time': 0.021818182, 'prompt_time': 0.05861668, 'queue_time': 0.021990348, 'total_time': 0.080434862}, 'model_name': 'gemma2-9b-it', 'system_fingerprint': 'fp_10c08bf97d', 'finish_reason': 'stop', 'logprobs': None}, id='run-d9b06249-9daa-4634-bc5e-e1722b9df28e-0', usage_metadata={'input_tokens': 1304, 'output_tokens': 12, 'total_tokens': 1316})"
      ]
     },
     "execution_count": 11,
     "metadata": {},
     "output_type": "execute_result"
    }
   ],
   "source": [
    "message['messages'][-1]"
   ]
  },
  {
   "cell_type": "code",
   "execution_count": 12,
   "id": "aa829bbc-a233-4346-a41b-87e0dbf48eff",
   "metadata": {},
   "outputs": [],
   "source": [
    "m = agent_executor.invoke({\n",
    "    'messages': [\n",
    "        ('human', 'Berapa suhunya ?')\n",
    "    ]},\n",
    "    config\n",
    ")"
   ]
  },
  {
   "cell_type": "code",
   "execution_count": 13,
   "id": "d697209c-5609-4c5e-97c7-da39c233f19e",
   "metadata": {},
   "outputs": [
    {
     "data": {
      "text/plain": [
       "AIMessage(content='Suhunya di Kuala Lumpur sekarang 27.10 derajat Celsius.  Hujan sedang atau deras dengan petir.  \\n\\n\\n', additional_kwargs={}, response_metadata={'token_usage': {'completion_tokens': 30, 'prompt_tokens': 1417, 'total_tokens': 1447, 'completion_time': 0.054545455, 'prompt_time': 0.04946125, 'queue_time': 0.022069609000000004, 'total_time': 0.104006705}, 'model_name': 'gemma2-9b-it', 'system_fingerprint': 'fp_10c08bf97d', 'finish_reason': 'stop', 'logprobs': None}, id='run-41999c33-45a1-40ca-bb33-a3fed83008e4-0', usage_metadata={'input_tokens': 1417, 'output_tokens': 30, 'total_tokens': 1447})"
      ]
     },
     "execution_count": 13,
     "metadata": {},
     "output_type": "execute_result"
    }
   ],
   "source": [
    "m['messages'][-1]"
   ]
  },
  {
   "cell_type": "code",
   "execution_count": 14,
   "id": "2e9b99e0",
   "metadata": {},
   "outputs": [],
   "source": [
    "m = agent_executor.invoke({\n",
    "    'messages': [\n",
    "        ('human', 'Where is my location now?')\n",
    "    ]},\n",
    "    config\n",
    ")"
   ]
  },
  {
   "cell_type": "code",
   "execution_count": 15,
   "id": "1669fe2c",
   "metadata": {},
   "outputs": [
    {
     "data": {
      "text/plain": [
       "AIMessage(content='Lokasi Anda saat ini adalah Kuala Lumpur.  \\n', additional_kwargs={}, response_metadata={'token_usage': {'completion_tokens': 12, 'prompt_tokens': 1461, 'total_tokens': 1473, 'completion_time': 0.021818182, 'prompt_time': 0.051179617, 'queue_time': 0.021286332000000005, 'total_time': 0.072997799}, 'model_name': 'gemma2-9b-it', 'system_fingerprint': 'fp_10c08bf97d', 'finish_reason': 'stop', 'logprobs': None}, id='run-42617d7f-4399-4f8e-bc21-1624d9efb713-0', usage_metadata={'input_tokens': 1461, 'output_tokens': 12, 'total_tokens': 1473})"
      ]
     },
     "execution_count": 15,
     "metadata": {},
     "output_type": "execute_result"
    }
   ],
   "source": [
    "m[\"messages\"][-1]"
   ]
  },
  {
   "cell_type": "markdown",
   "id": "f232c1c4",
   "metadata": {},
   "source": [
    "## Display Graph"
   ]
  },
  {
   "cell_type": "code",
   "execution_count": 16,
   "id": "d73fae6e",
   "metadata": {},
   "outputs": [
    {
     "data": {
      "image/png": "[encoded data removed]",
      "text/plain": [
       "<IPython.core.display.Image object>"
      ]
     },
     "metadata": {},
     "output_type": "display_data"
    }
   ],
   "source": [
    "from IPython.display import Image, display\n",
    "\n",
    "try:\n",
    "    display(Image(agent_executor.get_graph(xray=True).draw_mermaid_png()))\n",
    "except Exception:\n",
    "    # This requires some extra dependencies and is optional\n",
    "    pass"
   ]
  },
  {
   "cell_type": "markdown",
   "id": "58b60692",
   "metadata": {},
   "source": [
    "# From Scratch"
   ]
  },
  {
   "cell_type": "code",
   "execution_count": 17,
   "id": "06e1f338",
   "metadata": {},
   "outputs": [
    {
     "data": {
      "text/plain": [
       "<langgraph.graph.state.StateGraph at 0x13c737bf0>"
      ]
     },
     "execution_count": 17,
     "metadata": {},
     "output_type": "execute_result"
    }
   ],
   "source": [
    "from typing import Annotated\n",
    "\n",
    "from langchain_openai import ChatOpenAI\n",
    "from typing_extensions import TypedDict\n",
    "\n",
    "from langgraph.graph import StateGraph, START, END\n",
    "from langgraph.graph.message import add_messages\n",
    "from langgraph.checkpoint.memory import MemorySaver\n",
    "\n",
    "memory = MemorySaver()\n",
    "\n",
    "# Define the state\n",
    "class State(TypedDict):\n",
    "    messages: Annotated[list, add_messages]\n",
    "\n",
    "graph_builder = StateGraph(State)\n",
    "\n",
    "# Modification: tell the LLM which tools it can call\n",
    "tools = [get_weather, get_current_location, search_news]\n",
    "llm_with_tools = llm.bind_tools(tools)\n",
    "\n",
    "def agent(state: State):\n",
    "    messages = state[\"messages\"]\n",
    "    system_prompt_message = SystemMessage(content=system_prompt)\n",
    "    inputs = [system_prompt_message] + messages\n",
    "    return {\"messages\": [llm_with_tools.invoke(inputs)]}\n",
    "    # return {\"messages\": [llm_with_tools.invoke(messages)]}\n",
    "\n",
    "graph_builder.add_node(\"agent\", agent)"
   ]
  },
  {
   "cell_type": "code",
   "execution_count": 133,
   "id": "1208003c",
   "metadata": {},
   "outputs": [],
   "source": [
    "from langgraph.prebuilt import ToolNode, tools_condition\n",
    "tool_node = ToolNode(tools=tools)\n",
    "graph_builder.add_node(\"tools\", tool_node)\n",
    "\n",
    "graph_builder.add_conditional_edges(\n",
    "    \"agent\",\n",
    "    tools_condition,\n",
    ")\n",
    "\n",
    "graph_builder.add_edge(START, \"agent\")\n",
    "graph_builder.add_edge(\"tools\", \"agent\")\n",
    "graph_builder.set_entry_point(\"agent\")\n",
    "graph = graph_builder.compile(checkpointer=memory)\n"
   ]
  },
  {
   "cell_type": "code",
   "execution_count": 134,
   "id": "c8028019",
   "metadata": {},
   "outputs": [
    {
     "data": {
      "image/png": "[encoded data removed]",
      "text/plain": [
       "<IPython.core.display.Image object>"
      ]
     },
     "metadata": {},
     "output_type": "display_data"
    }
   ],
   "source": [
    "from IPython.display import Image, display\n",
    "\n",
    "try:\n",
    "    display(Image(graph.get_graph(xray=True).draw_mermaid_png()))\n",
    "except Exception:\n",
    "    # This requires some extra dependencies and is optional\n",
    "    pass"
   ]
  },
  {
   "cell_type": "code",
   "execution_count": 135,
   "id": "78ab9f1d",
   "metadata": {},
   "outputs": [],
   "source": [
    "answer = graph.invoke(\n",
    "    {\n",
    "        \"messages\": [(\"human\", \"What's the temperature on my current location?\")]\n",
    "    }, \n",
    "    {\"configurable\": {\"thread_id\": 42}}\n",
    ")"
   ]
  },
  {
   "cell_type": "code",
   "execution_count": 136,
   "id": "16c48f34",
   "metadata": {},
   "outputs": [
    {
     "data": {
      "text/plain": [
       "{'messages': [HumanMessage(content=\"What's the temperature on my current location?\", additional_kwargs={}, response_metadata={}, id='f9b1d286-d226-48af-91e2-86c8da57c340'),\n",
       "  AIMessage(content='', additional_kwargs={'tool_calls': [{'id': 'call_9s4z', 'function': {'arguments': '{}', 'name': 'get_current_location'}, 'type': 'function'}]}, response_metadata={'token_usage': {'completion_tokens': 73, 'prompt_tokens': 1239, 'total_tokens': 1312, 'completion_time': 0.132727273, 'prompt_time': 0.053219677, 'queue_time': 0.234226955, 'total_time': 0.18594695}, 'model_name': 'gemma2-9b-it', 'system_fingerprint': 'fp_10c08bf97d', 'finish_reason': 'tool_calls', 'logprobs': None}, id='run-e539a2c0-6cb8-44e6-9c29-bf3b3f8aca74-0', tool_calls=[{'name': 'get_current_location', 'args': {}, 'id': 'call_9s4z', 'type': 'tool_call'}], usage_metadata={'input_tokens': 1239, 'output_tokens': 73, 'total_tokens': 1312}),\n",
       "  ToolMessage(content='Seoul', name='get_current_location', id='f67d33e2-635b-44e1-969a-7bfa2219355d', tool_call_id='call_9s4z'),\n",
       "  AIMessage(content='', additional_kwargs={'tool_calls': [{'id': 'call_2dyt', 'function': {'arguments': '{\"location\":\"Seoul\"}', 'name': 'get_weather'}, 'type': 'function'}]}, response_metadata={'token_usage': {'completion_tokens': 42, 'prompt_tokens': 1311, 'total_tokens': 1353, 'completion_time': 0.076363636, 'prompt_time': 0.045929694, 'queue_time': 0.23354616200000003, 'total_time': 0.12229333}, 'model_name': 'gemma2-9b-it', 'system_fingerprint': 'fp_10c08bf97d', 'finish_reason': 'tool_calls', 'logprobs': None}, id='run-0d9c1223-48a0-4669-b4c7-100c5fabd1a3-0', tool_calls=[{'name': 'get_weather', 'args': {'location': 'Seoul'}, 'id': 'call_2dyt', 'type': 'tool_call'}], usage_metadata={'input_tokens': 1311, 'output_tokens': 42, 'total_tokens': 1353}),\n",
       "  ToolMessage(content='For Seoul temperature: 4.00 and weather: Clear', name='get_weather', id='c06d94b3-73d4-409b-91ae-9adc8c777ea9', tool_call_id='call_2dyt'),\n",
       "  AIMessage(content='Suhu di Seoul saat ini 4.00 derajat Celcius dengan cuaca cerah. \\n', additional_kwargs={}, response_metadata={'token_usage': {'completion_tokens': 22, 'prompt_tokens': 1394, 'total_tokens': 1416, 'completion_time': 0.04, 'prompt_time': 0.048311039, 'queue_time': 0.236958147, 'total_time': 0.088311039}, 'model_name': 'gemma2-9b-it', 'system_fingerprint': 'fp_10c08bf97d', 'finish_reason': 'stop', 'logprobs': None}, id='run-21bd8286-688e-4f8f-bbaf-b0768412f6eb-0', usage_metadata={'input_tokens': 1394, 'output_tokens': 22, 'total_tokens': 1416})]}"
      ]
     },
     "execution_count": 136,
     "metadata": {},
     "output_type": "execute_result"
    }
   ],
   "source": [
    "answer"
   ]
  },
  {
   "cell_type": "code",
   "execution_count": 137,
   "id": "06f645e2",
   "metadata": {},
   "outputs": [
    {
     "data": {
      "text/plain": [
       "'Suhu di Seoul saat ini 4.00 derajat Celcius dengan cuaca cerah. \\n'"
      ]
     },
     "execution_count": 137,
     "metadata": {},
     "output_type": "execute_result"
    }
   ],
   "source": [
    "answer[\"messages\"][-1].content"
   ]
  },
  {
   "cell_type": "code",
   "execution_count": 138,
   "id": "34c83841",
   "metadata": {},
   "outputs": [],
   "source": [
    "answer = graph.invoke(\n",
    "    {\n",
    "        \"messages\": [(\"human\", \"What is previous location?\")]\n",
    "    }, \n",
    "    {\"configurable\": {\"thread_id\": 42}}\n",
    ")"
   ]
  },
  {
   "cell_type": "code",
   "execution_count": 139,
   "id": "89d825c9",
   "metadata": {},
   "outputs": [
    {
     "data": {
      "text/plain": [
       "{'messages': [HumanMessage(content=\"What's the temperature on my current location?\", additional_kwargs={}, response_metadata={}, id='f9b1d286-d226-48af-91e2-86c8da57c340'),\n",
       "  AIMessage(content='', additional_kwargs={'tool_calls': [{'id': 'call_9s4z', 'function': {'arguments': '{}', 'name': 'get_current_location'}, 'type': 'function'}]}, response_metadata={'token_usage': {'completion_tokens': 73, 'prompt_tokens': 1239, 'total_tokens': 1312, 'completion_time': 0.132727273, 'prompt_time': 0.053219677, 'queue_time': 0.234226955, 'total_time': 0.18594695}, 'model_name': 'gemma2-9b-it', 'system_fingerprint': 'fp_10c08bf97d', 'finish_reason': 'tool_calls', 'logprobs': None}, id='run-e539a2c0-6cb8-44e6-9c29-bf3b3f8aca74-0', tool_calls=[{'name': 'get_current_location', 'args': {}, 'id': 'call_9s4z', 'type': 'tool_call'}], usage_metadata={'input_tokens': 1239, 'output_tokens': 73, 'total_tokens': 1312}),\n",
       "  ToolMessage(content='Seoul', name='get_current_location', id='f67d33e2-635b-44e1-969a-7bfa2219355d', tool_call_id='call_9s4z'),\n",
       "  AIMessage(content='', additional_kwargs={'tool_calls': [{'id': 'call_2dyt', 'function': {'arguments': '{\"location\":\"Seoul\"}', 'name': 'get_weather'}, 'type': 'function'}]}, response_metadata={'token_usage': {'completion_tokens': 42, 'prompt_tokens': 1311, 'total_tokens': 1353, 'completion_time': 0.076363636, 'prompt_time': 0.045929694, 'queue_time': 0.23354616200000003, 'total_time': 0.12229333}, 'model_name': 'gemma2-9b-it', 'system_fingerprint': 'fp_10c08bf97d', 'finish_reason': 'tool_calls', 'logprobs': None}, id='run-0d9c1223-48a0-4669-b4c7-100c5fabd1a3-0', tool_calls=[{'name': 'get_weather', 'args': {'location': 'Seoul'}, 'id': 'call_2dyt', 'type': 'tool_call'}], usage_metadata={'input_tokens': 1311, 'output_tokens': 42, 'total_tokens': 1353}),\n",
       "  ToolMessage(content='For Seoul temperature: 4.00 and weather: Clear', name='get_weather', id='c06d94b3-73d4-409b-91ae-9adc8c777ea9', tool_call_id='call_2dyt'),\n",
       "  AIMessage(content='Suhu di Seoul saat ini 4.00 derajat Celcius dengan cuaca cerah. \\n', additional_kwargs={}, response_metadata={'token_usage': {'completion_tokens': 22, 'prompt_tokens': 1394, 'total_tokens': 1416, 'completion_time': 0.04, 'prompt_time': 0.048311039, 'queue_time': 0.236958147, 'total_time': 0.088311039}, 'model_name': 'gemma2-9b-it', 'system_fingerprint': 'fp_10c08bf97d', 'finish_reason': 'stop', 'logprobs': None}, id='run-21bd8286-688e-4f8f-bbaf-b0768412f6eb-0', usage_metadata={'input_tokens': 1394, 'output_tokens': 22, 'total_tokens': 1416}),\n",
       "  HumanMessage(content='What is previous location?', additional_kwargs={}, response_metadata={}, id='52858767-e9c5-4c6c-9843-5f9e7a88391d'),\n",
       "  AIMessage(content='Seoul', additional_kwargs={}, response_metadata={'token_usage': {'completion_tokens': 3, 'prompt_tokens': 1429, 'total_tokens': 1432, 'completion_time': 0.005454545, 'prompt_time': 0.049456386, 'queue_time': 0.23848395600000002, 'total_time': 0.054910931}, 'model_name': 'gemma2-9b-it', 'system_fingerprint': 'fp_10c08bf97d', 'finish_reason': 'stop', 'logprobs': None}, id='run-36885b2d-29e1-4144-86a8-f8c4124a8c6c-0', usage_metadata={'input_tokens': 1429, 'output_tokens': 3, 'total_tokens': 1432})]}"
      ]
     },
     "execution_count": 139,
     "metadata": {},
     "output_type": "execute_result"
    }
   ],
   "source": [
    "answer"
   ]
  },
  {
   "cell_type": "code",
   "execution_count": null,
   "id": "0949819f",
   "metadata": {},
   "outputs": [],
   "source": []
  }
 ],
 "metadata": {
  "kernelspec": {
   "display_name": "llm-intro",
   "language": "python",
   "name": "python3"
  },
  "language_info": {
   "codemirror_mode": {
    "name": "ipython",
    "version": 3
   },
   "file_extension": ".py",
   "mimetype": "text/x-python",
   "name": "python",
   "nbconvert_exporter": "python",
   "pygments_lexer": "ipython3",
   "version": "3.12.9"
  }
 },
 "nbformat": 4,
 "nbformat_minor": 5
}
